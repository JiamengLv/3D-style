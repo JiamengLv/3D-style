{
 "nbformat": 4,
 "nbformat_minor": 0,
 "metadata": {
  "colab": {
   "name": "Untitled0.ipynb",
   "provenance": [],
   "collapsed_sections": []
  },
  "kernelspec": {
   "name": "python3",
   "display_name": "Python 3"
  },
  "language_info": {
   "name": "python"
  },
  "accelerator": "GPU",
  "pycharm": {
   "stem_cell": {
    "cell_type": "raw",
    "source": [],
    "metadata": {
     "collapsed": false
    }
   }
  }
 },
 "cells": [
  {
   "cell_type": "code",
   "source": [
    "# before run the demo, enabling GPU in Colab is required!\n",
    "!nvidia-smi"
   ],
   "metadata": {
    "colab": {
     "base_uri": "https://localhost:8080/"
    },
    "id": "sDC_6v0u8gbA",
    "outputId": "996fad3a-7814-4941-bbd0-19bb13a26324",
    "pycharm": {
     "is_executing": false
    }
   },
   "execution_count": 5,
   "outputs": [
    {
     "name": "stderr",
     "text": [
      "Traceback (most recent call last):\n  File \"D:\\Software\\JetBrains\\PyCharm 2019.2.6\\helpers-pro\\jupyter_debug\\pydev_jupyter_utils.py\", line 69, in attach_to_debugger\n    debugger.prepare_to_run(enable_tracing_from_start=False)\nTypeError: prepare_to_run() got an unexpected keyword argument 'enable_tracing_from_start'\nFailed to connect to target debugger.\n"
     ],
     "output_type": "stream"
    },
    {
     "name": "stdout",
     "text": [
      "Wed Oct  5 20:49:28 2022       \n+-----------------------------------------------------------------------------+\n| NVIDIA-SMI 512.78       Driver Version: 512.78       CUDA Version: 11.6     |\n|-------------------------------+----------------------+----------------------+\n| GPU  Name            TCC/WDDM | Bus-Id        Disp.A | Volatile Uncorr. ECC |\n| Fan  Temp  Perf  Pwr:Usage/Cap|         Memory-Usage | GPU-Util  Compute M. |\n|                               |                      |               MIG M. |\n|===============================+======================+======================|\n|   0  NVIDIA GeForce ... WDDM  | 00000000:01:00.0  On |                  N/A |\n| N/A   40C    P8     3W /  N/A |    852MiB /  4096MiB |      3%      Default |\n|                               |                      |                  N/A |\n+-------------------------------+----------------------+----------------------+\n                                                                               \n+-----------------------------------------------------------------------------+\n| Processes:                                                                  |\n|  GPU   GI   CI        PID   Type   Process name                  GPU Memory |\n|        ID   ID                                                   Usage      |\n|=============================================================================|\n|    0   N/A  N/A      1556    C+G   ...记\\EvernoteSubprocess.exe    N/A      |\n|    0   N/A  N/A      2392    C+G   ...5n1h2txyewy\\SearchApp.exe    N/A      |\n|    0   N/A  N/A      4160    C+G   ...y\\ShellExperienceHost.exe    N/A      |\n|    0   N/A  N/A      4812    C+G   ...mmandCenterBackground.exe    N/A      |\n|    0   N/A  N/A      5084    C+G   ...d\\runtime\\WeChatAppEx.exe    N/A      |\n|    0   N/A  N/A      9264    C+G   C:\\Windows\\explorer.exe         N/A      |\n|    0   N/A  N/A     10652    C+G   ...2txyewy\\TextInputHost.exe    N/A      |\n|    0   N/A  N/A     11060    C+G   ...tracted\\WechatBrowser.exe    N/A      |\n|    0   N/A  N/A     11348    C+G   ...ag6ke6\\BOAudioControl.exe    N/A      |\n|    0   N/A  N/A     11572    C+G   ...cw5n1h2txyewy\\LockApp.exe    N/A      |\n|    0   N/A  N/A     13396    C+G   ...kzcwy\\mcafee-security.exe    N/A      |\n|    0   N/A  N/A     14760    C+G   ...ck\\app-4.28.182\\slack.exe    N/A      |\n|    0   N/A  N/A     14900    C+G   ...bbwe\\Microsoft.Photos.exe    N/A      |\n|    0   N/A  N/A     15484    C+G   ...6XXFWB44ZAJBOQQ\\DeepL.exe    N/A      |\n|    0   N/A  N/A     18552    C+G   ...wekyb3d8bbwe\\Video.UI.exe    N/A      |\n|    0   N/A  N/A     19312    C+G   ...ystemEventUtilityHost.exe    N/A      |\n|    0   N/A  N/A     19788    C+G   ...019.2.6\\bin\\pycharm64.exe    N/A      |\n|    0   N/A  N/A     20548    C+G   ...ge\\Application\\msedge.exe    N/A      |\n|    0   N/A  N/A     22880    C+G   ...sk\\baidunetdiskrender.exe    N/A      |\n|    0   N/A  N/A     23036    C+G   ...e6\\promecefpluginhost.exe    N/A      |\n+-----------------------------------------------------------------------------+\n"
     ],
     "output_type": "stream"
    }
   ]
  },
  {
   "cell_type": "code",
   "source": [
    "# !git clone https://github.com/tjqansthd/LapDepth-release.git\n",
    "# # change directory to LapDepth soruce\n",
    "# %cd LapDepth-release\n",
    "# !ls"
   ],
   "metadata": {
    "colab": {
     "base_uri": "https://localhost:8080/"
    },
    "id": "j1_jkSM58iKa",
    "outputId": "c2dc3a56-2205-4f77-ec4c-49c011de2d53",
    "pycharm": {
     "is_executing": false
    }
   },
   "execution_count": 6,
   "outputs": [
    {
     "name": "stdout",
     "text": [
      "[WinError 2] 系统找不到指定的文件。: 'LapDepth-release'\nE:\\Pycharm_program\\Learning_program\\LapDepth-release-master\\LapDepth-release-master\n"
     ],
     "output_type": "stream"
    },
    {
     "name": "stderr",
     "text": [
      "Cloning into 'LapDepth-release'...\nfatal: unable to access 'https://github.com/tjqansthd/LapDepth-release.git/': Failed to connect to github.com port 443 after 21074 ms: Timed out\n",
      "'ls' 不是内部或外部命令，也不是可运行的程序\n或批处理文件。\n"
     ],
     "output_type": "stream"
    }
   ]
  },
  {
   "cell_type": "code",
   "source": [
    "# install requirement package\n",
    "!pip install geffnet\n",
    "!pip install path\n",
    "!pip install IPython\n",
    "!pip install blessings\n",
    "!pip install progressbar"
   ],
   "metadata": {
    "colab": {
     "base_uri": "https://localhost:8080/"
    },
    "id": "qjPEhxHgEjsC",
    "outputId": "b790c91c-0244-4831-df0c-7f72786e4a2c",
    "pycharm": {
     "is_executing": false
    }
   },
   "execution_count": 7,
   "outputs": [
    {
     "name": "stdout",
     "text": [
      "Requirement already satisfied: geffnet in d:\\environment\\python38\\lib\\site-packages (1.0.2)\nRequirement already satisfied: torch>=1.4 in d:\\environment\\python38\\lib\\site-packages (from geffnet) (1.10.0+cu102)\nRequirement already satisfied: torchvision in d:\\environment\\python38\\lib\\site-packages (from geffnet) (0.11.1+cu102)\nRequirement already satisfied: typing-extensions in d:\\environment\\python38\\lib\\site-packages (from torch>=1.4->geffnet) (3.7.4.3)\nRequirement already satisfied: numpy in c:\\users\\ljm\\appdata\\roaming\\python\\python38\\site-packages (from torchvision->geffnet) (1.22.2)\nRequirement already satisfied: pillow!=8.3.0,>=5.3.0 in d:\\environment\\python38\\lib\\site-packages (from torchvision->geffnet) (8.3.2)\n",
      "Requirement already satisfied: path in d:\\environment\\python38\\lib\\site-packages (16.5.0)\n",
      "Requirement already satisfied: IPython in d:\\environment\\python38\\lib\\site-packages (7.28.0)\nRequirement already satisfied: matplotlib-inline in d:\\environment\\python38\\lib\\site-packages (from IPython) (0.1.3)\nRequirement already satisfied: prompt-toolkit!=3.0.0,!=3.0.1,<3.1.0,>=2.0.0 in d:\\environment\\python38\\lib\\site-packages (from IPython) (3.0.20)\nRequirement already satisfied: colorama in d:\\environment\\python38\\lib\\site-packages (from IPython) (0.4.4)\nRequirement already satisfied: pygments in c:\\users\\ljm\\appdata\\roaming\\python\\python38\\site-packages (from IPython) (2.11.2)\nRequirement already satisfied: decorator in d:\\environment\\python38\\lib\\site-packages (from IPython) (5.1.0)\nRequirement already satisfied: traitlets>=4.2 in d:\\environment\\python38\\lib\\site-packages (from IPython) (5.3.0)\nRequirement already satisfied: backcall in d:\\environment\\python38\\lib\\site-packages (from IPython) (0.2.0)\nRequirement already satisfied: jedi>=0.16 in d:\\environment\\python38\\lib\\site-packages (from IPython) (0.18.0)\nRequirement already satisfied: pickleshare in d:\\environment\\python38\\lib\\site-packages (from IPython) (0.7.5)\nRequirement already satisfied: setuptools>=18.5 in c:\\users\\ljm\\appdata\\roaming\\python\\python38\\site-packages (from IPython) (59.5.0)\nRequirement already satisfied: parso<0.9.0,>=0.8.0 in d:\\environment\\python38\\lib\\site-packages (from jedi>=0.16->IPython) (0.8.2)\nRequirement already satisfied: wcwidth in d:\\environment\\python38\\lib\\site-packages (from prompt-toolkit!=3.0.0,!=3.0.1,<3.1.0,>=2.0.0->IPython) (0.2.5)\n",
      "Requirement already satisfied: blessings in d:\\environment\\python38\\lib\\site-packages (1.7)\nRequirement already satisfied: six in d:\\environment\\python38\\lib\\site-packages (from blessings) (1.16.0)\n",
      "Requirement already satisfied: progressbar in d:\\environment\\python38\\lib\\site-packages (2.5)\n"
     ],
     "output_type": "stream"
    },
    {
     "name": "stderr",
     "text": [
      "WARNING: Ignoring invalid distribution -illow (c:\\users\\ljm\\appdata\\roaming\\python\\python38\\site-packages)\nWARNING: Ignoring invalid distribution -illow (c:\\users\\ljm\\appdata\\roaming\\python\\python38\\site-packages)\nWARNING: Ignoring invalid distribution -illow (c:\\users\\ljm\\appdata\\roaming\\python\\python38\\site-packages)\nWARNING: Ignoring invalid distribution -illow (c:\\users\\ljm\\appdata\\roaming\\python\\python38\\site-packages)\nWARNING: Ignoring invalid distribution -illow (c:\\users\\ljm\\appdata\\roaming\\python\\python38\\site-packages)\nWARNING: Ignoring invalid distribution -illow (c:\\users\\ljm\\appdata\\roaming\\python\\python38\\site-packages)\n",
      "WARNING: Ignoring invalid distribution -illow (c:\\users\\ljm\\appdata\\roaming\\python\\python38\\site-packages)\nWARNING: Ignoring invalid distribution -illow (c:\\users\\ljm\\appdata\\roaming\\python\\python38\\site-packages)\nWARNING: Ignoring invalid distribution -illow (c:\\users\\ljm\\appdata\\roaming\\python\\python38\\site-packages)\nWARNING: Ignoring invalid distribution -illow (c:\\users\\ljm\\appdata\\roaming\\python\\python38\\site-packages)\nWARNING: Ignoring invalid distribution -illow (c:\\users\\ljm\\appdata\\roaming\\python\\python38\\site-packages)\nWARNING: Ignoring invalid distribution -illow (c:\\users\\ljm\\appdata\\roaming\\python\\python38\\site-packages)\n",
      "WARNING: Ignoring invalid distribution -illow (c:\\users\\ljm\\appdata\\roaming\\python\\python38\\site-packages)\nWARNING: Ignoring invalid distribution -illow (c:\\users\\ljm\\appdata\\roaming\\python\\python38\\site-packages)\nWARNING: Ignoring invalid distribution -illow (c:\\users\\ljm\\appdata\\roaming\\python\\python38\\site-packages)\nWARNING: Ignoring invalid distribution -illow (c:\\users\\ljm\\appdata\\roaming\\python\\python38\\site-packages)\nWARNING: Ignoring invalid distribution -illow (c:\\users\\ljm\\appdata\\roaming\\python\\python38\\site-packages)\nWARNING: Ignoring invalid distribution -illow (c:\\users\\ljm\\appdata\\roaming\\python\\python38\\site-packages)\n",
      "WARNING: Ignoring invalid distribution -illow (c:\\users\\ljm\\appdata\\roaming\\python\\python38\\site-packages)\nWARNING: Ignoring invalid distribution -illow (c:\\users\\ljm\\appdata\\roaming\\python\\python38\\site-packages)\nWARNING: Ignoring invalid distribution -illow (c:\\users\\ljm\\appdata\\roaming\\python\\python38\\site-packages)\nWARNING: Ignoring invalid distribution -illow (c:\\users\\ljm\\appdata\\roaming\\python\\python38\\site-packages)\nWARNING: Ignoring invalid distribution -illow (c:\\users\\ljm\\appdata\\roaming\\python\\python38\\site-packages)\nWARNING: Ignoring invalid distribution -illow (c:\\users\\ljm\\appdata\\roaming\\python\\python38\\site-packages)\n",
      "WARNING: Ignoring invalid distribution -illow (c:\\users\\ljm\\appdata\\roaming\\python\\python38\\site-packages)\nWARNING: Ignoring invalid distribution -illow (c:\\users\\ljm\\appdata\\roaming\\python\\python38\\site-packages)\nWARNING: Ignoring invalid distribution -illow (c:\\users\\ljm\\appdata\\roaming\\python\\python38\\site-packages)\nWARNING: Ignoring invalid distribution -illow (c:\\users\\ljm\\appdata\\roaming\\python\\python38\\site-packages)\nWARNING: Ignoring invalid distribution -illow (c:\\users\\ljm\\appdata\\roaming\\python\\python38\\site-packages)\nWARNING: Ignoring invalid distribution -illow (c:\\users\\ljm\\appdata\\roaming\\python\\python38\\site-packages)\n"
     ],
     "output_type": "stream"
    }
   ]
  },
  {
   "cell_type": "code",
   "source": [
    "# download pre-trained model from 'https://github.com/tjqansthd/LapDepth-release'\n",
    "# and upload to your google drive\n",
    "\n",
    "# mount google drive\n",
    "from google.colab import drive\n",
    "drive.mount('/content/drive')\n",
    "\n",
    "# pre-trained model should be located in '/content/drive/MyDrive/...'"
   ],
   "metadata": {
    "colab": {
     "base_uri": "https://localhost:8080/"
    },
    "id": "GVOlmauU-XdQ",
    "outputId": "f18fa866-a5da-4b32-a6e9-3aeae876b983",
    "pycharm": {
     "is_executing": false
    }
   },
   "execution_count": 8,
   "outputs": [
    {
     "traceback": [
      "\u001b[1;31m---------------------------------------------------------------------------\u001b[0m",
      "\u001b[1;31mModuleNotFoundError\u001b[0m                       Traceback (most recent call last)",
      "\u001b[1;32m~\\AppData\\Local\\Temp/ipykernel_26668/1945252603.py\u001b[0m in \u001b[0;36m<module>\u001b[1;34m\u001b[0m\n\u001b[0;32m      3\u001b[0m \u001b[1;33m\u001b[0m\u001b[0m\n\u001b[0;32m      4\u001b[0m \u001b[1;31m# mount google drive\u001b[0m\u001b[1;33m\u001b[0m\u001b[1;33m\u001b[0m\u001b[1;33m\u001b[0m\u001b[0m\n\u001b[1;32m----> 5\u001b[1;33m \u001b[1;32mfrom\u001b[0m \u001b[0mgoogle\u001b[0m\u001b[1;33m.\u001b[0m\u001b[0mcolab\u001b[0m \u001b[1;32mimport\u001b[0m \u001b[0mdrive\u001b[0m\u001b[1;33m\u001b[0m\u001b[1;33m\u001b[0m\u001b[0m\n\u001b[0m\u001b[0;32m      6\u001b[0m \u001b[0mdrive\u001b[0m\u001b[1;33m.\u001b[0m\u001b[0mmount\u001b[0m\u001b[1;33m(\u001b[0m\u001b[1;34m'/content/drive'\u001b[0m\u001b[1;33m)\u001b[0m\u001b[1;33m\u001b[0m\u001b[1;33m\u001b[0m\u001b[0m\n\u001b[0;32m      7\u001b[0m \u001b[1;33m\u001b[0m\u001b[0m\n",
      "\u001b[1;31mModuleNotFoundError\u001b[0m: No module named 'google.colab'"
     ],
     "ename": "ModuleNotFoundError",
     "evalue": "No module named 'google.colab'",
     "output_type": "error"
    }
   ]
  },
  {
   "cell_type": "code",
   "source": [
    "# test the model pretrained on KITTI dataset\n",
    "# pre-trained with data loss                  : LDRN_KITTI_ResNext101_pretrained_data.pkl\n",
    "# pre-trained with data loss + gradient loss  : LDRN_KITTI_ResNext101_pretrained_data_grad.pkl\n",
    "!python demo.py --model_dir /content/drive/MyDrive/LDRN_KITTI_ResNext101_pretrained_data_grad.pkl --img_dir ./example/kitti_demo.jpg --pretrained KITTI --cuda --gpu_num 0"
   ],
   "metadata": {
    "colab": {
     "base_uri": "https://localhost:8080/"
    },
    "id": "Va1l_PWFEcvd",
    "outputId": "5685d390-08c2-433f-f293-fd4b47c8210f",
    "pycharm": {
     "is_executing": false
    }
   },
   "execution_count": null,
   "outputs": []
  },
  {
   "cell_type": "code",
   "source": [
    "# visuallize the result image\n",
    "import matplotlib.pyplot as plt\n",
    "\n",
    "result_from_kitti = plt.imread(\"./out_kitti_demo.jpg\")\n",
    "plt.figure(figsize=(12, 8))\n",
    "plt.title('kitti_result')\n",
    "plt.imshow(result_from_kitti)\n"
   ],
   "metadata": {
    "colab": {
     "base_uri": "https://localhost:8080/",
     "height": 314
    },
    "id": "c0hlTIJNFq2R",
    "outputId": "aaee2356-4b20-4922-fccf-3a82a8826d00",
    "pycharm": {
     "is_executing": false
    }
   },
   "execution_count": null,
   "outputs": []
  },
  {
   "cell_type": "code",
   "source": [
    "plt.close('all')\n",
    "\n",
    "# test the model pretrained on NYU Depth V2 dataset\n",
    "# pre-trained model  : LDRN_NYU_ResNext101_pretrained_data.pkl\n",
    "!python demo.py --model_dir /content/drive/MyDrive/LDRN_NYU_ResNext101_pretrained_data.pkl --img_dir ./example/nyu_demo.jpg --pretrained NYU --cuda --gpu_num 0\n"
   ],
   "metadata": {
    "colab": {
     "base_uri": "https://localhost:8080/"
    },
    "id": "-QZg2E-4Jj9e",
    "outputId": "8d5ceaec-b656-43bd-b057-8f5f9460d6f9",
    "pycharm": {
     "is_executing": false
    }
   },
   "execution_count": null,
   "outputs": []
  },
  {
   "cell_type": "code",
   "source": [
    "# visuallize the result image\n",
    "\n",
    "result_from_nyu = plt.imread(\"./out_nyu_demo.jpg\")\n",
    "plt.figure(figsize=(12, 8))\n",
    "plt.title('nyu_result')\n",
    "plt.imshow(result_from_nyu)"
   ],
   "metadata": {
    "colab": {
     "base_uri": "https://localhost:8080/",
     "height": 491
    },
    "id": "nj4mmpYKLVba",
    "outputId": "6b55f4e7-8db0-4b4d-95cb-c501215b31dd",
    "pycharm": {
     "is_executing": false
    }
   },
   "execution_count": null,
   "outputs": []
  },
  {
   "cell_type": "code",
   "source": [
    "plt.close('all')"
   ],
   "metadata": {
    "id": "DvnXgqdeLeB1",
    "pycharm": {
     "is_executing": false
    }
   },
   "execution_count": null,
   "outputs": []
  }
 ]
}