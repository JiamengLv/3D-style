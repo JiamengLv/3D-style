{
 "cells": [
  {
   "cell_type": "markdown",
   "id": "6e1a9613",
   "metadata": {},
   "source": [
    "# 单目3D视觉技术"
   ]
  },
  {
   "cell_type": "markdown",
   "id": "8cdb0b1f",
   "metadata": {},
   "source": [
    "   可以利用有监督以及无监督算法对深度图像进行估计，再利用传统的图片+深度图的方式进行3D重建"
   ]
  },
  {
   "cell_type": "markdown",
   "id": "c9f8c80d",
   "metadata": {},
   "source": [
    "## 有监督深度估计+3D重建算法"
   ]
  },
  {
   "cell_type": "markdown",
   "id": "851dac7a",
   "metadata": {},
   "source": [
    "有监督深度估计\n",
    "\n",
    "    视频：https://www.bilibili.com/video/BV1ht4y1n7oH/?p=12&spm_id_from=333.880.my_history.page.click&vd_source=8f44c414598a30edebcaf2512689ee06\n",
    "    github: https://github.com/SimonsRoad/LapDepth-release\n",
    "    \n",
    "3D重建算法：\n",
    "\n",
    "    https://www.codetd.com/article/14432951 \n",
    "     opencv+open3d ---> 点云数据"
   ]
  },
  {
   "cell_type": "markdown",
   "id": "e9435c22",
   "metadata": {},
   "source": [
    "### 1. 有监督深度估计算法-LapDepth"
   ]
  },
  {
   "cell_type": "markdown",
   "id": "777fd9d0",
   "metadata": {},
   "source": [
    "目录：./LapDepth-release-master/LapDepth-release-master/\n",
    "\n",
    "单张图运行：demo.py  (具体内容见txt文件）"
   ]
  },
  {
   "cell_type": "markdown",
   "id": "ea7e17c3",
   "metadata": {},
   "source": [
    "### 2.3D重建算法\n",
    "\n",
    "目录：./opencv+open3d.py"
   ]
  },
  {
   "cell_type": "code",
   "execution_count": null,
   "id": "9f494b8d",
   "metadata": {},
   "outputs": [],
   "source": []
  }
 ],
 "metadata": {
  "kernelspec": {
   "display_name": "Python 3 (ipykernel)",
   "language": "python",
   "name": "python3"
  },
  "pycharm": {
   "stem_cell": {
    "cell_type": "raw",
    "source": [],
    "metadata": {
     "collapsed": false
    }
   }
  }
 },
 "nbformat": 4,
 "nbformat_minor": 5
}